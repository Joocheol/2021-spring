{
  "nbformat": 4,
  "nbformat_minor": 0,
  "metadata": {
    "colab": {
      "name": "machine learning from scratch",
      "provenance": [],
      "authorship_tag": "ABX9TyOvVOIjtgenSpb844ZtEfLC",
      "include_colab_link": true
    },
    "kernelspec": {
      "name": "python3",
      "display_name": "Python 3"
    }
  },
  "cells": [
    {
      "cell_type": "markdown",
      "metadata": {
        "id": "view-in-github",
        "colab_type": "text"
      },
      "source": [
        "<a href=\"https://colab.research.google.com/github/Joocheol/2021-spring/blob/main/machine_learning_from_scratch.ipynb\" target=\"_parent\"><img src=\"https://colab.research.google.com/assets/colab-badge.svg\" alt=\"Open In Colab\"/></a>"
      ]
    },
    {
      "cell_type": "code",
      "metadata": {
        "id": "FakUZyTu1DkX"
      },
      "source": [
        ""
      ],
      "execution_count": null,
      "outputs": []
    },
    {
      "cell_type": "markdown",
      "metadata": {
        "id": "M3bgRJDE1FFQ"
      },
      "source": [
        "# 회귀분석\r\n",
        "\r\n",
        "$$ x = [1, 2, 3]$$\r\n",
        "$$y = [2,3,5]$$\r\n",
        "```\r\n",
        "x = np.array([1,2,3])\r\n",
        "```"
      ]
    },
    {
      "cell_type": "code",
      "metadata": {
        "id": "yOgNWNRm-sFx"
      },
      "source": [
        "import numpy as np"
      ],
      "execution_count": null,
      "outputs": []
    },
    {
      "cell_type": "code",
      "metadata": {
        "id": "hvrTveQR-uWx"
      },
      "source": [
        "x = np.array([1,2,3])\r\n",
        "y = np.array([3,4,6])"
      ],
      "execution_count": null,
      "outputs": []
    },
    {
      "cell_type": "code",
      "metadata": {
        "id": "N7qlGiIj-4BO"
      },
      "source": [
        "weight = 1.1\r\n",
        "bias = 0.0\r\n",
        "\r\n",
        "my_model = weight * x + bias"
      ],
      "execution_count": null,
      "outputs": []
    },
    {
      "cell_type": "code",
      "metadata": {
        "colab": {
          "base_uri": "https://localhost:8080/"
        },
        "id": "1Idg-jHM_DYC",
        "outputId": "d0333fc9-8a92-4852-d3fd-dfb52fa866ba"
      },
      "source": [
        "my_model"
      ],
      "execution_count": null,
      "outputs": [
        {
          "output_type": "execute_result",
          "data": {
            "text/plain": [
              "array([1.1, 2.2, 3.3])"
            ]
          },
          "metadata": {
            "tags": []
          },
          "execution_count": 6
        }
      ]
    },
    {
      "cell_type": "code",
      "metadata": {
        "id": "LergCTMj_Fwp"
      },
      "source": [
        "loss = np.mean((my_model - y)**2)"
      ],
      "execution_count": null,
      "outputs": []
    },
    {
      "cell_type": "code",
      "metadata": {
        "colab": {
          "base_uri": "https://localhost:8080/"
        },
        "id": "DtEPg7Uq_Spi",
        "outputId": "f3a42b75-9182-4a66-dfb6-eccd8d7f3c25"
      },
      "source": [
        "loss"
      ],
      "execution_count": null,
      "outputs": [
        {
          "output_type": "execute_result",
          "data": {
            "text/plain": [
              "4.713333333333332"
            ]
          },
          "metadata": {
            "tags": []
          },
          "execution_count": 8
        }
      ]
    },
    {
      "cell_type": "code",
      "metadata": {
        "id": "iFXPlD2o_TNZ"
      },
      "source": [
        "for weight in np.arange(-10,10,1):\r\n",
        "    for bias in np.arange(-10,10,1):\r\n",
        "        my_model = weight * x + bias\r\n",
        "        loss = np.mean((my_model - y)**2)\r\n",
        "        print(weight, bias, loss)\r\n"
      ],
      "execution_count": null,
      "outputs": []
    },
    {
      "cell_type": "markdown",
      "metadata": {
        "id": "F9SjcLX-Awvq"
      },
      "source": [
        "## hand engineered feature selection\r\n",
        "## non linear model\r\n"
      ]
    },
    {
      "cell_type": "code",
      "metadata": {
        "id": "TjUDcaGY_wGr"
      },
      "source": [
        ""
      ],
      "execution_count": null,
      "outputs": []
    },
    {
      "cell_type": "markdown",
      "metadata": {
        "id": "fFYHgKioBf08"
      },
      "source": [
        "\r\n",
        "\r\n",
        "1.   model $$\\hat{y} = w x + b$$\r\n",
        "2.   loss  $$L = \\frac{1}{n} \\sum_{j=1}^{m} (\\hat{y} - y)^2 $$\r\n",
        "3.   training(optimization) $$\\frac{\\partial{L}}{\\partial{w}}$$\r\n",
        "\r\n",
        "\r\n"
      ]
    },
    {
      "cell_type": "markdown",
      "metadata": {
        "id": "PLHRn0QVD3Wk"
      },
      "source": [
        "For the optimization step. Once we understand the basic principles, there is no more things to worry about. Just apply the the basic principles again and again.\r\n",
        "\r\n"
      ]
    },
    {
      "cell_type": "markdown",
      "metadata": {
        "id": "9EakqhQ0VZoG"
      },
      "source": [
        "$$c = S_0 N(d_1) - K e^{-rT} N(d_2)$$\r\n",
        "where $$N(x) = \\int_{-\\infty}^{x} \\frac{1}{2\\pi} e^{-\\frac{1}{2} y^2} dy$$\r\n",
        "and $$d_1 = \\frac{\\ln (S_0 /K) + (r + \\frac{1}{2} \\sigma^2)T}{\\sigma\\sqrt{T}}$$\r\n",
        "$$d_2 = \\frac{\\ln (S_0 /K) + (r - \\frac{1}{2} \\sigma^2)T}{\\sigma\\sqrt{T}}$$"
      ]
    },
    {
      "cell_type": "code",
      "metadata": {
        "id": "U9QEsC2889GJ"
      },
      "source": [
        ""
      ],
      "execution_count": null,
      "outputs": []
    },
    {
      "cell_type": "markdown",
      "metadata": {
        "id": "NiYlhpIT6-nb"
      },
      "source": [
        "\n",
        "\n",
        "![링크 텍스트](https://github.com/Joocheol/2021-spring/blob/main/Lessons-1.png?raw=true)\n",
        "\n",
        "\n"
      ]
    },
    {
      "cell_type": "code",
      "metadata": {
        "id": "0GKo4uXD7EJQ"
      },
      "source": [
        "import numpy as np\n",
        "import matplotlib.pyplot as plt\n",
        "\n"
      ],
      "execution_count": 1,
      "outputs": []
    },
    {
      "cell_type": "code",
      "metadata": {
        "id": "XSQCyj1v9fZ1"
      },
      "source": [
        "x = np.arange(-5,5,0.1)"
      ],
      "execution_count": 2,
      "outputs": []
    },
    {
      "cell_type": "code",
      "metadata": {
        "id": "q2DUlTiI9qKF"
      },
      "source": [
        "y = 1/(1+np.exp(-x))"
      ],
      "execution_count": 6,
      "outputs": []
    },
    {
      "cell_type": "code",
      "metadata": {
        "colab": {
          "base_uri": "https://localhost:8080/"
        },
        "id": "wEs1U0PK9q3c",
        "outputId": "5215204e-8139-47ca-bbe9-59d65a8964a4"
      },
      "source": [
        "y"
      ],
      "execution_count": 7,
      "outputs": [
        {
          "output_type": "execute_result",
          "data": {
            "text/plain": [
              "array([0.00669285, 0.00739154, 0.00816257, 0.0090133 , 0.0099518 ,\n",
              "       0.01098694, 0.01212843, 0.01338692, 0.01477403, 0.0163025 ,\n",
              "       0.01798621, 0.01984031, 0.02188127, 0.02412702, 0.02659699,\n",
              "       0.02931223, 0.03229546, 0.03557119, 0.03916572, 0.04310725,\n",
              "       0.04742587, 0.05215356, 0.05732418, 0.06297336, 0.06913842,\n",
              "       0.07585818, 0.0831727 , 0.09112296, 0.09975049, 0.10909682,\n",
              "       0.11920292, 0.13010847, 0.14185106, 0.15446527, 0.16798161,\n",
              "       0.18242552, 0.19781611, 0.21416502, 0.23147522, 0.24973989,\n",
              "       0.26894142, 0.2890505 , 0.31002552, 0.33181223, 0.35434369,\n",
              "       0.37754067, 0.40131234, 0.42555748, 0.450166  , 0.47502081,\n",
              "       0.5       , 0.52497919, 0.549834  , 0.57444252, 0.59868766,\n",
              "       0.62245933, 0.64565631, 0.66818777, 0.68997448, 0.7109495 ,\n",
              "       0.73105858, 0.75026011, 0.76852478, 0.78583498, 0.80218389,\n",
              "       0.81757448, 0.83201839, 0.84553473, 0.85814894, 0.86989153,\n",
              "       0.88079708, 0.89090318, 0.90024951, 0.90887704, 0.9168273 ,\n",
              "       0.92414182, 0.93086158, 0.93702664, 0.94267582, 0.94784644,\n",
              "       0.95257413, 0.95689275, 0.96083428, 0.96442881, 0.96770454,\n",
              "       0.97068777, 0.97340301, 0.97587298, 0.97811873, 0.98015969,\n",
              "       0.98201379, 0.9836975 , 0.98522597, 0.98661308, 0.98787157,\n",
              "       0.98901306, 0.9900482 , 0.9909867 , 0.99183743, 0.99260846])"
            ]
          },
          "metadata": {
            "tags": []
          },
          "execution_count": 7
        }
      ]
    },
    {
      "cell_type": "code",
      "metadata": {
        "colab": {
          "base_uri": "https://localhost:8080/",
          "height": 265
        },
        "id": "4Et3klB69xpM",
        "outputId": "eb098091-33a0-4599-d3e0-b9d187ab829a"
      },
      "source": [
        "plt.plot(x,y)\n",
        "plt.show()"
      ],
      "execution_count": 9,
      "outputs": [
        {
          "output_type": "display_data",
          "data": {
            "image/png": "[encoded data removed]",
            "text/plain": [
              "<Figure size 432x288 with 1 Axes>"
            ]
          },
          "metadata": {
            "tags": [],
            "needs_background": "light"
          }
        }
      ]
    },
    {
      "cell_type": "markdown",
      "metadata": {
        "id": "CoReyjuN-EOs"
      },
      "source": [
        "$$ g(z) = \\frac{1}{1+e^{-z}}$$\n",
        "\n",
        "$$\\frac{f(x)}{g(x)} => \\frac{f'(x) g(x) - f(x) g'(x)}{[g(x)]^2}$$\n",
        "\n",
        "$$e^{f(x)} => e^{f(x)} f'(x) $$\n",
        "\n",
        "$$e^{x} => e^{x}$$\n",
        "\n",
        "$$e^{-z} => e^{-z} (-1)$$\n",
        "\n",
        "$$ 1- g(z) \\\\ = 1 - \\frac{1}{1+e^{-z}} \\\\ = \\frac{1+e^{-z}}{1+e^{-z}} - \\frac{1}{1+e^{-z}} \\\\ = \\frac{e^{-z}}{1+e^{-z}}$$\n",
        "\n",
        "$$\\frac{-(-e^{-z})}{[1+e^{-z}]^2} = \\frac{e^{-z}}{[1+e^{-z}]^2} $$\n"
      ]
    },
    {
      "cell_type": "code",
      "metadata": {
        "id": "CPEK2Wd2-D34"
      },
      "source": [
        ""
      ],
      "execution_count": null,
      "outputs": []
    },
    {
      "cell_type": "code",
      "metadata": {
        "id": "cjI9_7kY93cF"
      },
      "source": [
        "import tensorflow as tf"
      ],
      "execution_count": 11,
      "outputs": []
    },
    {
      "cell_type": "code",
      "metadata": {
        "colab": {
          "base_uri": "https://localhost:8080/"
        },
        "id": "34Nq-f0nV2kw",
        "outputId": "572b352d-dd21-4e7b-fa31-6e0a0c909a63"
      },
      "source": [
        "(x_train, y_train), (x_test, y_test) = tf.keras.datasets.mnist.load_data()"
      ],
      "execution_count": 12,
      "outputs": [
        {
          "output_type": "stream",
          "text": [
            "Downloading data from https://storage.googleapis.com/tensorflow/tf-keras-datasets/mnist.npz\n",
            "11493376/11490434 [==============================] - 0s 0us/step\n"
          ],
          "name": "stdout"
        }
      ]
    },
    {
      "cell_type": "code",
      "metadata": {
        "colab": {
          "base_uri": "https://localhost:8080/"
        },
        "id": "9AG0s3zRWTY8",
        "outputId": "01f9ed95-93ab-49bf-862a-e880f78b01bf"
      },
      "source": [
        "x_train.shape"
      ],
      "execution_count": 36,
      "outputs": [
        {
          "output_type": "execute_result",
          "data": {
            "text/plain": [
              "(60000, 28, 28)"
            ]
          },
          "metadata": {
            "tags": []
          },
          "execution_count": 36
        }
      ]
    },
    {
      "cell_type": "code",
      "metadata": {
        "id": "0W7Q2gmpWV5r"
      },
      "source": [
        "my_model = tf.keras.models.Sequential([\n",
        "    tf.keras.layers.Flatten(),\n",
        "    tf.keras.layers.Dense(32, activation='relu'),\n",
        "    tf.keras.layers.Dense(10, activation=\"softmax\")\n",
        "])"
      ],
      "execution_count": 81,
      "outputs": []
    },
    {
      "cell_type": "code",
      "metadata": {
        "colab": {
          "base_uri": "https://localhost:8080/"
        },
        "id": "Jb_UqUQZW2eR",
        "outputId": "b6ae8c73-eac3-4736-ecdd-6a7e93cfc33e"
      },
      "source": [
        "my_model(x_train)"
      ],
      "execution_count": 82,
      "outputs": [
        {
          "output_type": "execute_result",
          "data": {
            "text/plain": [
              "<tf.Tensor: shape=(60000, 10), dtype=float32, numpy=\n",
              "array([[2.2709111e-11, 0.0000000e+00, 1.0000000e+00, ..., 0.0000000e+00,\n",
              "        2.4499784e-32, 0.0000000e+00],\n",
              "       [1.0000000e+00, 0.0000000e+00, 0.0000000e+00, ..., 0.0000000e+00,\n",
              "        0.0000000e+00, 0.0000000e+00],\n",
              "       [8.8257061e-17, 0.0000000e+00, 1.0000000e+00, ..., 0.0000000e+00,\n",
              "        0.0000000e+00, 0.0000000e+00],\n",
              "       ...,\n",
              "       [1.0000000e+00, 0.0000000e+00, 4.3884698e-16, ..., 0.0000000e+00,\n",
              "        0.0000000e+00, 0.0000000e+00],\n",
              "       [1.0000000e+00, 3.1384085e-21, 3.2483690e-17, ..., 0.0000000e+00,\n",
              "        0.0000000e+00, 0.0000000e+00],\n",
              "       [1.0000000e+00, 0.0000000e+00, 2.1144059e-26, ..., 2.0846219e-25,\n",
              "        4.1237564e-28, 4.9299267e-33]], dtype=float32)>"
            ]
          },
          "metadata": {
            "tags": []
          },
          "execution_count": 82
        }
      ]
    },
    {
      "cell_type": "code",
      "metadata": {
        "id": "ceFAGdBlW51p"
      },
      "source": [
        "my_model.compile(loss='sparse_categorical_crossentropy', metrics=['accuracy'])"
      ],
      "execution_count": 83,
      "outputs": []
    },
    {
      "cell_type": "code",
      "metadata": {
        "colab": {
          "base_uri": "https://localhost:8080/"
        },
        "id": "VLELJ7PDilQu",
        "outputId": "2a713929-5947-448a-f8d6-e9142312cd18"
      },
      "source": [
        "my_model.fit(x_train, y_train, epochs=10)"
      ],
      "execution_count": 84,
      "outputs": [
        {
          "output_type": "stream",
          "text": [
            "Epoch 1/10\n",
            "1875/1875 [==============================] - 3s 1ms/step - loss: 5.6094 - accuracy: 0.6087\n",
            "Epoch 2/10\n",
            "1875/1875 [==============================] - 3s 1ms/step - loss: 0.7699 - accuracy: 0.8558\n",
            "Epoch 3/10\n",
            "1875/1875 [==============================] - 3s 1ms/step - loss: 0.6650 - accuracy: 0.8773\n",
            "Epoch 4/10\n",
            "1875/1875 [==============================] - 3s 1ms/step - loss: 0.5936 - accuracy: 0.8954\n",
            "Epoch 5/10\n",
            "1875/1875 [==============================] - 3s 1ms/step - loss: 0.5433 - accuracy: 0.9071\n",
            "Epoch 6/10\n",
            "1875/1875 [==============================] - 3s 1ms/step - loss: 0.5332 - accuracy: 0.9153\n",
            "Epoch 7/10\n",
            "1875/1875 [==============================] - 3s 1ms/step - loss: 0.5225 - accuracy: 0.9186\n",
            "Epoch 8/10\n",
            "1875/1875 [==============================] - 3s 1ms/step - loss: 0.4970 - accuracy: 0.9198\n",
            "Epoch 9/10\n",
            "1875/1875 [==============================] - 3s 1ms/step - loss: 0.4712 - accuracy: 0.9239\n",
            "Epoch 10/10\n",
            "1875/1875 [==============================] - 3s 1ms/step - loss: 0.4806 - accuracy: 0.9266\n"
          ],
          "name": "stdout"
        },
        {
          "output_type": "execute_result",
          "data": {
            "text/plain": [
              "<tensorflow.python.keras.callbacks.History at 0x7f0cf21432e8>"
            ]
          },
          "metadata": {
            "tags": []
          },
          "execution_count": 84
        }
      ]
    },
    {
      "cell_type": "code",
      "metadata": {
        "colab": {
          "base_uri": "https://localhost:8080/"
        },
        "id": "AsDHwdQDirVv",
        "outputId": "65fa177d-b4a7-4b80-dc08-67c476431a40"
      },
      "source": [
        "my_model.predict(x_test[1000:1001])"
      ],
      "execution_count": 85,
      "outputs": [
        {
          "output_type": "execute_result",
          "data": {
            "text/plain": [
              "array([[0.0000000e+00, 1.0807001e-31, 1.1608745e-22, 1.6304437e-09,\n",
              "        2.8243384e-04, 1.6808597e-08, 0.0000000e+00, 3.7702182e-07,\n",
              "        2.6718782e-19, 9.9971718e-01]], dtype=float32)"
            ]
          },
          "metadata": {
            "tags": []
          },
          "execution_count": 85
        }
      ]
    },
    {
      "cell_type": "code",
      "metadata": {
        "colab": {
          "base_uri": "https://localhost:8080/"
        },
        "id": "9zNXxgGvlM9C",
        "outputId": "9306186a-e0ee-492f-ff0a-e0ca35ce1abf"
      },
      "source": [
        "y_test[1000]"
      ],
      "execution_count": 86,
      "outputs": [
        {
          "output_type": "execute_result",
          "data": {
            "text/plain": [
              "9"
            ]
          },
          "metadata": {
            "tags": []
          },
          "execution_count": 86
        }
      ]
    },
    {
      "cell_type": "code",
      "metadata": {
        "id": "qA4i1U7ZlbW4"
      },
      "source": [
        "import matplotlib.pyplot as plt\n"
      ],
      "execution_count": 87,
      "outputs": []
    },
    {
      "cell_type": "code",
      "metadata": {
        "colab": {
          "base_uri": "https://localhost:8080/",
          "height": 283
        },
        "id": "0fVA8TnRlpXu",
        "outputId": "861fdb3f-8ccd-4186-8f1d-ca9c617e0c09"
      },
      "source": [
        "plt.imshow(x_test[1000])"
      ],
      "execution_count": 88,
      "outputs": [
        {
          "output_type": "execute_result",
          "data": {
            "text/plain": [
              "<matplotlib.image.AxesImage at 0x7f0cf0673a20>"
            ]
          },
          "metadata": {
            "tags": []
          },
          "execution_count": 88
        },
        {
          "output_type": "display_data",
          "data": {
            "image/png": "[encoded data removed]",
            "text/plain": [
              "<Figure size 432x288 with 1 Axes>"
            ]
          },
          "metadata": {
            "tags": [],
            "needs_background": "light"
          }
        }
      ]
    },
    {
      "cell_type": "code",
      "metadata": {
        "id": "VeEHT6Ual2U1"
      },
      "source": [
        ""
      ],
      "execution_count": null,
      "outputs": []
    }
  ]
}